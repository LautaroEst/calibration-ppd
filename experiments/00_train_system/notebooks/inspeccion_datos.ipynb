{
 "cells": [
  {
   "cell_type": "code",
   "execution_count": 9,
   "metadata": {},
   "outputs": [],
   "source": [
    "from datasets import DatasetDict\n",
    "import pandas as pd"
   ]
  },
  {
   "cell_type": "code",
   "execution_count": 16,
   "metadata": {},
   "outputs": [
    {
     "data": {
      "text/plain": [
       "(0.36816720257234725, 0.36816720257234725)"
      ]
     },
     "execution_count": 16,
     "metadata": {},
     "output_type": "execute_result"
    }
   ],
   "source": [
    "datadict = DatasetDict.load_from_disk(\"../results/bert/cache/00_Load Dataset/calibration\")\n",
    "\n",
    "train_counts = pd.Series(datadict[\"train\"][\"label\"]).value_counts()\n",
    "val_counts = pd.Series(datadict[\"validation\"][\"label\"]).value_counts()\n",
    "train_counts[1] / train_counts.sum(), val_counts[1] / val_counts.sum(), "
   ]
  },
  {
   "cell_type": "code",
   "execution_count": 18,
   "metadata": {},
   "outputs": [
    {
     "data": {
      "text/plain": [
       "(0.36932622407893473, 0.3693280197883743)"
      ]
     },
     "execution_count": 18,
     "metadata": {},
     "output_type": "execute_result"
    }
   ],
   "source": [
    "datadict = DatasetDict.load_from_disk(\"../results/bert/cache/00_Load Dataset/training\")\n",
    "\n",
    "train_counts = pd.Series(datadict[\"train\"][\"label\"]).value_counts()\n",
    "val_counts = pd.Series(datadict[\"validation\"][\"label\"]).value_counts()\n",
    "train_counts[1] / train_counts.sum(), val_counts[1] / val_counts.sum(), "
   ]
  },
  {
   "cell_type": "code",
   "execution_count": null,
   "metadata": {},
   "outputs": [],
   "source": []
  }
 ],
 "metadata": {
  "kernelspec": {
   "display_name": "Python 3.10.8 ('nlp')",
   "language": "python",
   "name": "python3"
  },
  "language_info": {
   "codemirror_mode": {
    "name": "ipython",
    "version": 3
   },
   "file_extension": ".py",
   "mimetype": "text/x-python",
   "name": "python",
   "nbconvert_exporter": "python",
   "pygments_lexer": "ipython3",
   "version": "3.10.8"
  },
  "orig_nbformat": 4,
  "vscode": {
   "interpreter": {
    "hash": "f90631fd6269ecec6b41fd2152e8b981085596aa19ac7b6fcd4ee9a0c7858ce4"
   }
  }
 },
 "nbformat": 4,
 "nbformat_minor": 2
}
