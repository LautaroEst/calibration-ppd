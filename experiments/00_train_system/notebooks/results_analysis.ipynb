{
 "cells": [
  {
   "cell_type": "code",
   "execution_count": 2,
   "metadata": {},
   "outputs": [],
   "source": [
    "import torch\n",
    "import os\n",
    "import pickle\n",
    "import numpy as np"
   ]
  },
  {
   "cell_type": "code",
   "execution_count": 3,
   "metadata": {},
   "outputs": [
    {
     "name": "stdout",
     "output_type": "stream",
     "text": [
      "0.7677376355316138\n",
      "0.755407448124227\n",
      "0.7589661142715806\n",
      "0.7505565174375464\n"
     ]
    }
   ],
   "source": [
    "def load_results(model_name):\n",
    "    with open(f\"../results/{model_name}/run00_0/08_Evaluation of the model/results.pkl\", \"rb\") as f:\n",
    "        results = pickle.load(f)\n",
    "    return results\n",
    "\n",
    "model_name = \"cbow\"\n",
    "results = load_results(model_name)\n",
    "print(np.mean(np.asarray(results[\"training_train\"][\"logits\"] > 0.5,dtype=int) == results[\"training_train\"][\"labels\"]))\n",
    "print(np.mean(np.asarray(results[\"training_validation\"][\"logits\"] > 0.5,dtype=int) == results[\"training_validation\"][\"labels\"]))\n",
    "print(np.mean(np.asarray(results[\"calibration_train\"][\"logits\"] > 0.5,dtype=int) == results[\"calibration_train\"][\"labels\"]))\n",
    "print(np.mean(np.asarray(results[\"calibration_validation\"][\"logits\"] > 0.5,dtype=int) == results[\"calibration_validation\"][\"labels\"]))"
   ]
  },
  {
   "cell_type": "code",
   "execution_count": 4,
   "metadata": {},
   "outputs": [
    {
     "name": "stdout",
     "output_type": "stream",
     "text": [
      "0.9147404801495143\n",
      "0.8817644633777656\n",
      "0.8811835270838486\n",
      "0.8759584466979965\n"
     ]
    }
   ],
   "source": [
    "model_name = \"bert\"\n",
    "results = load_results(model_name)\n",
    "print(np.mean(np.asarray(results[\"training_train\"][\"logits\"] > 0.5,dtype=int) == results[\"training_train\"][\"labels\"]))\n",
    "print(np.mean(np.asarray(results[\"training_validation\"][\"logits\"] > 0.5,dtype=int) == results[\"training_validation\"][\"labels\"]))\n",
    "print(np.mean(np.asarray(results[\"calibration_train\"][\"logits\"] > 0.5,dtype=int) == results[\"calibration_train\"][\"labels\"]))\n",
    "print(np.mean(np.asarray(results[\"calibration_validation\"][\"logits\"] > 0.5,dtype=int) == results[\"calibration_validation\"][\"labels\"]))"
   ]
  },
  {
   "cell_type": "code",
   "execution_count": null,
   "metadata": {},
   "outputs": [],
   "source": []
  }
 ],
 "metadata": {
  "kernelspec": {
   "display_name": "Python 3.10.8 ('nlp')",
   "language": "python",
   "name": "python3"
  },
  "language_info": {
   "codemirror_mode": {
    "name": "ipython",
    "version": 3
   },
   "file_extension": ".py",
   "mimetype": "text/x-python",
   "name": "python",
   "nbconvert_exporter": "python",
   "pygments_lexer": "ipython3",
   "version": "3.10.8"
  },
  "orig_nbformat": 4,
  "vscode": {
   "interpreter": {
    "hash": "f90631fd6269ecec6b41fd2152e8b981085596aa19ac7b6fcd4ee9a0c7858ce4"
   }
  }
 },
 "nbformat": 4,
 "nbformat_minor": 2
}
