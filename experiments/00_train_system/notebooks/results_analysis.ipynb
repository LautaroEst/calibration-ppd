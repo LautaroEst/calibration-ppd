{
 "cells": [
  {
   "cell_type": "code",
   "execution_count": 3,
   "metadata": {},
   "outputs": [],
   "source": [
    "import torch\n",
    "import os\n",
    "import pickle\n",
    "import numpy as np\n",
    "import matplotlib.pyplot as plt\n",
    "import pandas as pd"
   ]
  },
  {
   "cell_type": "code",
   "execution_count": 2,
   "metadata": {},
   "outputs": [
    {
     "name": "stdout",
     "output_type": "stream",
     "text": [
      "0.7677376355316138\n",
      "0.755407448124227\n",
      "0.7589661142715806\n",
      "0.7505565174375464\n"
     ]
    }
   ],
   "source": [
    "def load_results(model_name):\n",
    "    with open(f\"../results/{model_name}/run00_0/08_Evaluation of the model/results.pkl\", \"rb\") as f:\n",
    "        results = pickle.load(f)\n",
    "    return results\n",
    "\n",
    "model_name = \"cbow\"\n",
    "results = load_results(model_name)\n",
    "print(np.mean(np.asarray(results[\"training_train\"][\"logits\"] > 0.5,dtype=int) == results[\"training_train\"][\"labels\"]))\n",
    "print(np.mean(np.asarray(results[\"training_validation\"][\"logits\"] > 0.5,dtype=int) == results[\"training_validation\"][\"labels\"]))\n",
    "print(np.mean(np.asarray(results[\"calibration_train\"][\"logits\"] > 0.5,dtype=int) == results[\"calibration_train\"][\"labels\"]))\n",
    "print(np.mean(np.asarray(results[\"calibration_validation\"][\"logits\"] > 0.5,dtype=int) == results[\"calibration_validation\"][\"labels\"]))"
   ]
  },
  {
   "cell_type": "code",
   "execution_count": 7,
   "metadata": {},
   "outputs": [
    {
     "data": {
      "text/plain": [
       "(0.36932622407893473, 0.3693280197883743)"
      ]
     },
     "execution_count": 7,
     "metadata": {},
     "output_type": "execute_result"
    }
   ],
   "source": [
    "train_counts = pd.Series(results[\"training_train\"][\"labels\"]).value_counts()\n",
    "val_counts = pd.Series(results[\"training_validation\"][\"labels\"]).value_counts()\n",
    "train_counts[1] / train_counts.sum(), val_counts[1] / val_counts.sum(), "
   ]
  },
  {
   "cell_type": "code",
   "execution_count": 13,
   "metadata": {},
   "outputs": [
    {
     "name": "stdout",
     "output_type": "stream",
     "text": [
      "0.9147404801495143\n",
      "0.8817644633777656\n",
      "0.8811835270838486\n",
      "0.8759584466979965\n"
     ]
    }
   ],
   "source": [
    "model_name = \"bert\"\n",
    "results = load_results(model_name)\n",
    "print(np.mean(np.asarray(results[\"training_train\"][\"logits\"] > 0.5,dtype=int) == results[\"training_train\"][\"labels\"]))\n",
    "print(np.mean(np.asarray(results[\"training_validation\"][\"logits\"] > 0.5,dtype=int) == results[\"training_validation\"][\"labels\"]))\n",
    "print(np.mean(np.asarray(results[\"calibration_train\"][\"logits\"] > 0.5,dtype=int) == results[\"calibration_train\"][\"labels\"]))\n",
    "print(np.mean(np.asarray(results[\"calibration_validation\"][\"logits\"] > 0.5,dtype=int) == results[\"calibration_validation\"][\"labels\"]))"
   ]
  },
  {
   "cell_type": "code",
   "execution_count": 10,
   "metadata": {},
   "outputs": [
    {
     "data": {
      "image/png": "[encoded data removed]",
      "text/plain": [
       "<Figure size 900x400 with 1 Axes>"
      ]
     },
     "metadata": {},
     "output_type": "display_data"
    }
   ],
   "source": [
    "p = 0.5\n",
    "fig, ax = plt.subplots(1,1,figsize=(9,4))\n",
    "logits = results[\"calibration_validation\"][\"logits\"]\n",
    "labels = results[\"calibration_validation\"][\"labels\"]\n",
    "llrs_cls1 = logits[labels == 1] - np.log(p / (1 - p))\n",
    "llrs_cls0 = logits[labels == 0] + np.log(p / (1 - p))\n",
    "ax.hist(llrs_cls1,bins=100,alpha=0.5);\n",
    "ax.hist(llrs_cls0,bins=100,alpha=0.5);"
   ]
  },
  {
   "cell_type": "code",
   "execution_count": 17,
   "metadata": {},
   "outputs": [
    {
     "ename": "IndentationError",
     "evalue": "expected an indented block after function definition on line 11 (3403560559.py, line 13)",
     "output_type": "error",
     "traceback": [
      "\u001b[0;36m  Cell \u001b[0;32mIn [17], line 13\u001b[0;36m\u001b[0m\n\u001b[0;31m    def calibrate_logits(train_logits,train_labels,epochs):\u001b[0m\n\u001b[0m                                                           ^\u001b[0m\n\u001b[0;31mIndentationError\u001b[0m\u001b[0;31m:\u001b[0m expected an indented block after function definition on line 11\n"
     ]
    }
   ],
   "source": [
    "\n",
    "    \n",
    "        \n",
    "\n",
    "        \n",
    "        "
   ]
  },
  {
   "cell_type": "code",
   "execution_count": null,
   "metadata": {},
   "outputs": [],
   "source": []
  }
 ],
 "metadata": {
  "kernelspec": {
   "display_name": "Python 3.10.8 ('nlp')",
   "language": "python",
   "name": "python3"
  },
  "language_info": {
   "codemirror_mode": {
    "name": "ipython",
    "version": 3
   },
   "file_extension": ".py",
   "mimetype": "text/x-python",
   "name": "python",
   "nbconvert_exporter": "python",
   "pygments_lexer": "ipython3",
   "version": "3.10.8"
  },
  "orig_nbformat": 4,
  "vscode": {
   "interpreter": {
    "hash": "f90631fd6269ecec6b41fd2152e8b981085596aa19ac7b6fcd4ee9a0c7858ce4"
   }
  }
 },
 "nbformat": 4,
 "nbformat_minor": 2
}
