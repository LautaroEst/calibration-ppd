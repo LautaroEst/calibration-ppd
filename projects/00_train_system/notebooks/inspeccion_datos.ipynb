{
 "cells": [
  {
   "cell_type": "code",
   "execution_count": 9,
   "metadata": {},
   "outputs": [],
   "source": [
    "from datasets import DatasetDict\n",
    "import pandas as pd"
   ]
  },
  {
   "cell_type": "code",
   "execution_count": 16,
   "metadata": {},
   "outputs": [
    {
     "data": {
      "text/plain": [
       "(0.36816720257234725, 0.36816720257234725)"
      ]
     },
     "execution_count": 16,
     "metadata": {},
     "output_type": "execute_result"
    }
   ],
   "source": [
    "datadict = DatasetDict.load_from_disk(\"../results/bert/cache/00_Load Dataset/calibration\")\n",
    "\n",
    "train_counts = pd.Series(datadict[\"train\"][\"label\"]).value_counts()\n",
    "val_counts = pd.Series(datadict[\"validation\"][\"label\"]).value_counts()\n",
    "train_counts[1] / train_counts.sum(), val_counts[1] / val_counts.sum(), "
   ]
  },
  {
   "cell_type": "code",
   "execution_count": 18,
   "metadata": {},
   "outputs": [
    {
     "data": {
      "text/plain": [
       "(0.36932622407893473, 0.3693280197883743)"
      ]
     },
     "execution_count": 18,
     "metadata": {},
     "output_type": "execute_result"
    }
   ],
   "source": [
    "datadict = DatasetDict.load_from_disk(\"../results/bert/cache/00_Load Dataset/training\")\n",
    "\n",
    "train_counts = pd.Series(datadict[\"train\"][\"label\"]).value_counts()\n",
    "val_counts = pd.Series(datadict[\"validation\"][\"label\"]).value_counts()\n",
    "train_counts[1] / train_counts.sum(), val_counts[1] / val_counts.sum(), "
   ]
  },
  {
   "cell_type": "code",
   "execution_count": 4,
   "metadata": {},
   "outputs": [],
   "source": [
    "from datasets import load_dataset\n",
    "import pandas as pd"
   ]
  },
  {
   "cell_type": "code",
   "execution_count": 2,
   "metadata": {},
   "outputs": [
    {
     "name": "stderr",
     "output_type": "stream",
     "text": [
      "Found cached dataset glue (/home/lestienne/.cache/huggingface/datasets/glue/qqp/1.0.0/dacbe3125aa31d7f70367a07a8a9e72a5a0bfeb5fc42e75c9db75b96da6053ad)\n"
     ]
    },
    {
     "data": {
      "application/json": {
       "ascii": false,
       "bar_format": null,
       "colour": null,
       "elapsed": 0.015764951705932617,
       "initial": 0,
       "n": 0,
       "ncols": null,
       "nrows": null,
       "postfix": null,
       "prefix": "",
       "rate": null,
       "total": 3,
       "unit": "it",
       "unit_divisor": 1000,
       "unit_scale": false
      },
      "application/vnd.jupyter.widget-view+json": {
       "model_id": "486cb3803e6448668899be482bb9b604",
       "version_major": 2,
       "version_minor": 0
      },
      "text/plain": [
       "  0%|          | 0/3 [00:00<?, ?it/s]"
      ]
     },
     "metadata": {},
     "output_type": "display_data"
    }
   ],
   "source": [
    "data = load_dataset(\"glue\",\"qqp\")"
   ]
  },
  {
   "cell_type": "code",
   "execution_count": 8,
   "metadata": {},
   "outputs": [
    {
     "data": {
      "text/plain": [
       "DatasetDict({\n",
       "    train: Dataset({\n",
       "        features: ['question1', 'question2', 'label', 'idx'],\n",
       "        num_rows: 363846\n",
       "    })\n",
       "    validation: Dataset({\n",
       "        features: ['question1', 'question2', 'label', 'idx'],\n",
       "        num_rows: 40430\n",
       "    })\n",
       "    test: Dataset({\n",
       "        features: ['question1', 'question2', 'label', 'idx'],\n",
       "        num_rows: 390965\n",
       "    })\n",
       "})"
      ]
     },
     "execution_count": 8,
     "metadata": {},
     "output_type": "execute_result"
    }
   ],
   "source": [
    "data"
   ]
  },
  {
   "cell_type": "code",
   "execution_count": 20,
   "metadata": {},
   "outputs": [
    {
     "name": "stdout",
     "output_type": "stream",
     "text": [
      "Dataset({\n",
      "    features: ['question1', 'question2', 'label', 'idx'],\n",
      "    num_rows: 291076\n",
      "})\n",
      "Dataset({\n",
      "    features: ['question1', 'question2', 'label', 'idx'],\n",
      "    num_rows: 36385\n",
      "})\n",
      "Dataset({\n",
      "    features: ['question1', 'question2', 'label', 'idx'],\n",
      "    num_rows: 36385\n",
      "})\n",
      "Dataset({\n",
      "    features: ['question1', 'question2', 'label', 'idx'],\n",
      "    num_rows: 40430\n",
      "})\n"
     ]
    }
   ],
   "source": [
    "data_splitted = data[\"train\"].train_test_split(test_size=0.2,stratify_by_column=\"label\")\n",
    "data_splitted_splitted = data_splitted[\"test\"].train_test_split(test_size=0.5,stratify_by_column=\"label\")\n",
    "\n",
    "\n",
    "model_train = data_splitted[\"train\"]\n",
    "calibration_train = data_splitted_splitted[\"train\"]\n",
    "validation = data_splitted_splitted[\"test\"]\n",
    "test = data[\"validation\"]\n",
    "\n",
    "print(model_train)\n",
    "print(calibration_train)\n",
    "print(validation)\n",
    "print(test)\n"
   ]
  },
  {
   "cell_type": "code",
   "execution_count": 22,
   "metadata": {},
   "outputs": [
    {
     "name": "stdout",
     "output_type": "stream",
     "text": [
      "0.36932622407893473\n",
      "0.3693280197883743\n",
      "0.3693280197883743\n",
      "0.36816720257234725\n"
     ]
    }
   ],
   "source": [
    "def get_priors(split):\n",
    "    labels_counts = pd.Series(split[\"label\"]).value_counts().values\n",
    "    print(labels_counts[1] / labels_counts.sum())\n",
    "\n",
    "get_priors(model_train)\n",
    "get_priors(calibration_train)\n",
    "get_priors(validation)\n",
    "get_priors(test)"
   ]
  }
 ],
 "metadata": {
  "kernelspec": {
   "display_name": "Python 3.10.8 ('nlp')",
   "language": "python",
   "name": "python3"
  },
  "language_info": {
   "codemirror_mode": {
    "name": "ipython",
    "version": 3
   },
   "file_extension": ".py",
   "mimetype": "text/x-python",
   "name": "python",
   "nbconvert_exporter": "python",
   "pygments_lexer": "ipython3",
   "version": "3.10.8"
  },
  "orig_nbformat": 4,
  "vscode": {
   "interpreter": {
    "hash": "f90631fd6269ecec6b41fd2152e8b981085596aa19ac7b6fcd4ee9a0c7858ce4"
   }
  }
 },
 "nbformat": 4,
 "nbformat_minor": 2
}
